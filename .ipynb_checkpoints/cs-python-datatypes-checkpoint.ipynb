{
 "cells": [
  {
   "cell_type": "markdown",
   "metadata": {},
   "source": [
    "# Introduction\n",
    "\n",
    "We use variables in our programs to store data.  Each variable has a name and stores data of a certain type (string, integer, real etc).  In Python we do not have to explicitly state the data type being stored, it will work this out for itself when the variable is first used.  In this section we will just use string variables.  String is the programming term for text (i.e. letters, numbers and symbols).\n",
    "Variable names can contain letters and numbers but should always start with a letter.\n",
    "We assign a value to a variable using =\n",
    "\n",
    "Task 1"
   ]
  },
  {
   "cell_type": "code",
   "execution_count": 2,
   "metadata": {},
   "outputs": [
    {
     "name": "stdout",
     "output_type": "stream",
     "text": [
      "Hello Fred\n"
     ]
    }
   ],
   "source": [
    "# run the following lines of code:\n",
    "name='Fred'\n",
    "print('Hello '+name)"
   ]
  },
  {
   "cell_type": "markdown",
   "metadata": {},
   "source": [
    "## Calculations\n",
    "\n",
    "We can carry out calculations in Python.  The arithmetic operators we use to do this are:\n",
    " (+)  addition\n",
    " (-)  subtraction\n",
    " (*)  multiplication\n",
    " (/) division\n",
    " \n",
    "Task 2"
   ]
  },
  {
   "cell_type": "code",
   "execution_count": 4,
   "metadata": {},
   "outputs": [
    {
     "name": "stdout",
     "output_type": "stream",
     "text": [
      "11\n",
      "-0.5\n",
      "24\n",
      "2.3333333333333335\n"
     ]
    }
   ],
   "source": [
    "# Copy and run the following lines of code\n",
    "print(1+10)\n",
    "print(7-7.5)\n",
    "print(3*8)\n",
    "print(7/3)"
   ]
  },
  {
   "cell_type": "markdown",
   "metadata": {},
   "source": [
    "Task 3\n",
    "Try changing the calculations to new ones.\n",
    " \n",
    "We can put the results of calculations into variables.  These variables will not be string but integer (whole numbers) or float (decimal)."
   ]
  },
  {
   "cell_type": "code",
   "execution_count": 5,
   "metadata": {},
   "outputs": [
    {
     "name": "stdout",
     "output_type": "stream",
     "text": [
      "3.8\n"
     ]
    }
   ],
   "source": [
    "a=19\n",
    "b=5\n",
    "c=a/b\n",
    "print(c)"
   ]
  },
  {
   "cell_type": "markdown",
   "metadata": {},
   "source": [
    "## Datatypes\n",
    "Every variable has a given data type.  The most common data types are:\n",
    " \n",
    "String  - Text made up of numbers, letters and characters.\n",
    "\n",
    "Integer - Whole numbers. (e.g. 1, 78, 0 and -54)\n",
    "\n",
    "Float - Decimal numbers (e.g. 3.5683, 98.74634, -6.3).  Float comes under the umbrella of what we often refer to as Real numbers.\n",
    "\n",
    "Boolean - True or False\n",
    " \n",
    "In some languages we have to tell the computer what data type a variable is going to be.  Python, on the other hand, is able to decide the data type of the variable according to what value it is first given (or to use the correct term what it is initialised with). This can cause problems when we try to do something with the wrong data type.\n",
    " \n",
    "Copy and run the following program. "
   ]
  },
  {
   "cell_type": "code",
   "execution_count": null,
   "metadata": {},
   "outputs": [],
   "source": [
    "a=input('Enter number 1:')\n",
    "b=input('Enter number 2:')\n",
    "c=a+b\n",
    "print('Adding your numbers together gives:'+c)"
   ]
  },
  {
   "cell_type": "code",
   "execution_count": 6,
   "metadata": {},
   "outputs": [
    {
     "name": "stdout",
     "output_type": "stream",
     "text": [
      "Enter number 1:3\n",
      "Enter number 2:67\n",
      "Adding your numbers together gives:367\n"
     ]
    }
   ],
   "source": [
    "a=input('Enter number 1:')\n",
    "b=input('Enter number 2:')\n",
    "c=a+b\n",
    "print('Adding your numbers together gives:'+c)"
   ]
  },
  {
   "cell_type": "markdown",
   "metadata": {},
   "source": [
    "If you enter the numbers 5 and 4 it will output 54.  This is because Python treats anything received through the input function as a string.  We need to tell Python we want to convert this string to an integer before putting it into the variable.  This is done using type casting.\n",
    " \n",
    "To cast data to an integer we use int()\n",
    " \n",
    "Try the program now:"
   ]
  },
  {
   "cell_type": "code",
   "execution_count": 14,
   "metadata": {},
   "outputs": [
    {
     "name": "stdout",
     "output_type": "stream",
     "text": [
      "Enter number 1:455\n",
      "Enter number 2:54\n",
      "Adding your numbers together gives:509\n"
     ]
    }
   ],
   "source": [
    "a = int(input('Enter number 1:'))\n",
    "b = int(input('Enter number 2:'))\n",
    "c=a+b\n",
    "c = str(c)\n",
    "print('Adding your numbers together gives:'+ c)"
   ]
  },
  {
   "cell_type": "markdown",
   "metadata": {},
   "source": [
    "This time you will get an error in line 4:\n",
    "TypeError: Can't convert 'int' object to str implicitly\n",
    " \n",
    "Explain why and write down the reason. "
   ]
  },
  {
   "cell_type": "markdown",
   "metadata": {},
   "source": [
    "Because Python can't add a string to an integer."
   ]
  },
  {
   "cell_type": "markdown",
   "metadata": {},
   "source": [
    "## Mathematical operators\n",
    " \n",
    "Task 4 Try using the following operators and note down the results"
   ]
  },
  {
   "cell_type": "markdown",
   "metadata": {},
   "source": [
    "60/5\n",
    "\n",
    "987+34\n",
    "\n",
    "564*89\n",
    "\n",
    "2**5\n",
    "\n",
    "43-5\n",
    "\n",
    "11//2\n",
    "\n",
    "11%2"
   ]
  },
  {
   "cell_type": "code",
   "execution_count": 15,
   "metadata": {},
   "outputs": [
    {
     "name": "stdout",
     "output_type": "stream",
     "text": [
      "12.0\n",
      "1021\n",
      "50196\n",
      "32\n",
      "38\n",
      "5\n",
      "1\n"
     ]
    }
   ],
   "source": [
    "print(60/5)\n",
    "print(987+34)\n",
    "print(564*89)\n",
    "print(2**5)\n",
    "print(43-5)\n",
    "print(11//2)\n",
    "print(11%2)"
   ]
  },
  {
   "cell_type": "markdown",
   "metadata": {},
   "source": [
    "### Task 5\n",
    "Calculate cost of carpet where the user provides the length and width of the carpet. The price of the carpet is £10 per square meter."
   ]
  },
  {
   "cell_type": "code",
   "execution_count": 21,
   "metadata": {},
   "outputs": [
    {
     "name": "stdout",
     "output_type": "stream",
     "text": [
      "Enter the length of carpet in metres: 455\n",
      "Enter the width of carpet in metres: 545\n",
      "Length of carpet supplied =  455.0\n",
      "Width of carpet supplied =  545.0\n",
      "Cost of carpet supplied = £ 2479750.0\n"
     ]
    }
   ],
   "source": [
    "length = float(input(\"Enter the length of carpet in metres: \"))\n",
    "# ask the user to provide width\n",
    "# add your code here\n",
    "width = float(input(\"Enter the width of carpet in metres: \"))\n",
    "\n",
    "cost = length*width*10\n",
    " \n",
    "# print the length of the carpet\n",
    "print(\"Length of carpet supplied = \",length)\n",
    "\n",
    "# print the width and Cost of the carpet\n",
    "print(\"Width of carpet supplied = \",width)\n",
    "print(\"Cost of carpet supplied = \" + \"£\",cost)\n",
    "# add your code here\n"
   ]
  },
  {
   "cell_type": "markdown",
   "metadata": {},
   "source": [
    "### Task 6\n",
    "Calculate volume of a cylinder when radius and height is given and print the volume"
   ]
  },
  {
   "cell_type": "code",
   "execution_count": 22,
   "metadata": {},
   "outputs": [
    {
     "name": "stdout",
     "output_type": "stream",
     "text": [
      "12743.951999999997\n"
     ]
    }
   ],
   "source": [
    "# volume = pi*radius*radius*height\n",
    "pi = 3.142\n",
    "\n",
    "# add your code here\n",
    "radius = 13\n",
    "height = 24\n",
    "\n",
    "volume = pi*radius*radius*height\n",
    "print(volume)\n"
   ]
  },
  {
   "cell_type": "markdown",
   "metadata": {},
   "source": [
    "### Task 7\n",
    "Write a Python program which accepts the radius of a circle from the user and compute the area. "
   ]
  },
  {
   "cell_type": "code",
   "execution_count": 24,
   "metadata": {},
   "outputs": [
    {
     "name": "stdout",
     "output_type": "stream",
     "text": [
      "Enter radius of circle:454\n",
      "647532.5113873137\n"
     ]
    }
   ],
   "source": [
    "from math import pi\n",
    "\n",
    "# you can use the value pi imported from the math library\n",
    "# add your code here\n",
    "radius = float(input(\"Enter radius of circle:\"))\n",
    "\n",
    "area = pi*radius*radius\n",
    "\n",
    "print(area)\n"
   ]
  },
  {
   "cell_type": "markdown",
   "metadata": {},
   "source": [
    "### Task 8\n",
    "Write a Python program to compute the future value of a specified principal amount, rate of interest, and a number of years."
   ]
  },
  {
   "cell_type": "code",
   "execution_count": 67,
   "metadata": {},
   "outputs": [
    {
     "name": "stdout",
     "output_type": "stream",
     "text": [
      "12722.792627665729\n"
     ]
    }
   ],
   "source": [
    "amt = 10000\n",
    "intr = 0.035\n",
    "years = 7\n",
    "# add your code here\n",
    "#value = amt*(1+intr)*years\n",
    "value = amt*(1 +intr)**(years)\n",
    "print(value)\n"
   ]
  },
  {
   "cell_type": "markdown",
   "metadata": {},
   "source": [
    "### Task 9 \n",
    "Write a program to ask the user to enter three numbers and find the largest number from a set of three numbers."
   ]
  },
  {
   "cell_type": "code",
   "execution_count": 69,
   "metadata": {},
   "outputs": [
    {
     "name": "stdout",
     "output_type": "stream",
     "text": [
      "Enter first number:5\n",
      "Enter second number:86\n",
      "Enter third number:34\n",
      "The biggest number is 34.0\n"
     ]
    }
   ],
   "source": [
    "# add your code here\n",
    "input1 = float(input(\"Enter first number:\"))\n",
    "input2 = float(input(\"Enter second number:\"))\n",
    "input3 = float(input(\"Enter third number:\"))\n",
    "\n",
    "printedInput = input1\n",
    "\n",
    "if(input1 > input2):\n",
    "    printedInput = input2\n",
    "    \n",
    "else:\n",
    "    printedInput = input1\n",
    "    \n",
    "if(printedInput < input3):\n",
    "    printedInput = input3\n",
    "    \n",
    "print(\"The biggest number is\", printedInput)\n",
    "\n",
    "\n"
   ]
  },
  {
   "cell_type": "markdown",
   "metadata": {},
   "source": [
    "### Extension Task\n",
    "Write a program to generate and print all 3-digit numbers that equal the sum of the cubes of their individual decimal digits."
   ]
  },
  {
   "cell_type": "code",
   "execution_count": 71,
   "metadata": {},
   "outputs": [
    {
     "name": "stdout",
     "output_type": "stream",
     "text": [
      "9\n",
      "9\n",
      "99\n",
      "9\n"
     ]
    }
   ],
   "source": [
    "# the code is repeated to \n",
    "for i in range (100,1000):\n",
    "    # explain what the following lines of code are trying to do\n",
    "    hundreds = i // 100\n",
    "    units = i % 10\n",
    "    j = i // 10\n",
    "    tens = j % 10\n",
    "    \n",
    "# add your code here\n",
    "print(hundreds)\n",
    "print(units)\n",
    "print(j)\n",
    "print(tens)"
   ]
  }
 ],
 "metadata": {
  "kernelspec": {
   "display_name": "Python 3",
   "language": "python",
   "name": "python3"
  },
  "language_info": {
   "codemirror_mode": {
    "name": "ipython",
    "version": 3
   },
   "file_extension": ".py",
   "mimetype": "text/x-python",
   "name": "python",
   "nbconvert_exporter": "python",
   "pygments_lexer": "ipython3",
   "version": "3.6.8"
  }
 },
 "nbformat": 4,
 "nbformat_minor": 2
}
